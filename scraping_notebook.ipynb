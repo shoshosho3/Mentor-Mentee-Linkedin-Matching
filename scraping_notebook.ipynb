{
 "cells": [
  {
   "cell_type": "code",
   "id": "initial_id",
   "metadata": {
    "collapsed": true,
    "ExecuteTime": {
     "end_time": "2025-01-16T09:39:40.636768Z",
     "start_time": "2025-01-16T09:39:40.180209Z"
    }
   },
   "source": [
    "import pandas as pd\n",
    "from requests import get\n",
    "from bs4 import BeautifulSoup\n",
    "import time\n",
    "import random"
   ],
   "outputs": [],
   "execution_count": 1
  },
  {
   "metadata": {},
   "cell_type": "markdown",
   "source": "# Part 1: Scraping The Categories of Mentors from the Mentoring Club",
   "id": "886428ed2766b04"
  },
  {
   "cell_type": "code",
   "source": [
    "url = (\"https://www.mentoring-club.com/the-mentors/search-mentor\")\n",
    "headers = {\"user-agent\": \"Mozilla/5.0 (Windows NT 10.0; Win64; x64) AppleWebKit/537.36 (KHTML, like Gecko) Chrome/88.0.4324.182 Safari/537.36\"}\n",
    "categories = []\n",
    "response = get(url , headers=headers)\n",
    "soup = BeautifulSoup(response.content, 'html.parser')\n",
    "html_soup = BeautifulSoup(response.text, 'html.parser')\n",
    "categories += html_soup.find_all('div', class_ = 'col-lg-3 col-md-4')"
   ],
   "metadata": {
    "collapsed": false,
    "ExecuteTime": {
     "end_time": "2025-01-16T09:58:34.586333Z",
     "start_time": "2025-01-16T09:58:33.574666Z"
    }
   },
   "id": "ee8b95f2b84d9573",
   "outputs": [],
   "execution_count": 17
  },
  {
   "cell_type": "code",
   "source": [
    "category_hrefs = []\n",
    "\n",
    "\n",
    "for container in categories:\n",
    "\n",
    "    inner_div = container.find('div', class_ = 'icon-box')\n",
    "    a = inner_div.find('a')\n",
    "    href = a['href']\n",
    "    category_hrefs.append(href)"
   ],
   "metadata": {
    "collapsed": false,
    "ExecuteTime": {
     "end_time": "2025-01-16T10:09:58.169109Z",
     "start_time": "2025-01-16T10:09:58.152021Z"
    }
   },
   "id": "96ae8422abdfd22a",
   "outputs": [],
   "execution_count": 35
  },
  {
   "metadata": {},
   "cell_type": "markdown",
   "source": "# Part 2: Scraping Mentor Links from Mentoring Club for each category",
   "id": "dc200710c81fce81"
  },
  {
   "metadata": {
    "ExecuteTime": {
     "end_time": "2025-01-16T10:28:02.487418Z",
     "start_time": "2025-01-16T10:17:41.430466Z"
    }
   },
   "cell_type": "code",
   "source": [
    "mentors = []\n",
    "\n",
    "from tqdm import tqdm\n",
    "\n",
    "for i, category in enumerate(category_hrefs):\n",
    "    print(\"Scraping category\", i + 1, \"out of\", len(category_hrefs))\n",
    "    for page_number in tqdm(range(1, 20)):\n",
    "        new_url = \"https://www.mentoring-club.com/\" + category + \"?pageNumber=\" + str(page_number)\n",
    "        response = get(new_url, headers=headers)\n",
    "        soup = BeautifulSoup(response.content, 'html.parser')\n",
    "        html_soup = BeautifulSoup(response.text, 'html.parser')\n",
    "        mentors += html_soup.find_all('div', class_ = 'member-content')"
   ],
   "id": "100ac90ccebb02af",
   "outputs": [
    {
     "name": "stdout",
     "output_type": "stream",
     "text": [
      "Scraping category 1 out of 45\n"
     ]
    },
    {
     "name": "stderr",
     "output_type": "stream",
     "text": [
      "100%|██████████| 19/19 [00:15<00:00,  1.26it/s]\n"
     ]
    },
    {
     "name": "stdout",
     "output_type": "stream",
     "text": [
      "Scraping category 2 out of 45\n"
     ]
    },
    {
     "name": "stderr",
     "output_type": "stream",
     "text": [
      "100%|██████████| 19/19 [00:20<00:00,  1.08s/it]\n"
     ]
    },
    {
     "name": "stdout",
     "output_type": "stream",
     "text": [
      "Scraping category 3 out of 45\n"
     ]
    },
    {
     "name": "stderr",
     "output_type": "stream",
     "text": [
      "100%|██████████| 19/19 [00:13<00:00,  1.40it/s]\n"
     ]
    },
    {
     "name": "stdout",
     "output_type": "stream",
     "text": [
      "Scraping category 4 out of 45\n"
     ]
    },
    {
     "name": "stderr",
     "output_type": "stream",
     "text": [
      "100%|██████████| 19/19 [00:14<00:00,  1.32it/s]\n"
     ]
    },
    {
     "name": "stdout",
     "output_type": "stream",
     "text": [
      "Scraping category 5 out of 45\n"
     ]
    },
    {
     "name": "stderr",
     "output_type": "stream",
     "text": [
      "100%|██████████| 19/19 [00:16<00:00,  1.16it/s]\n"
     ]
    },
    {
     "name": "stdout",
     "output_type": "stream",
     "text": [
      "Scraping category 6 out of 45\n"
     ]
    },
    {
     "name": "stderr",
     "output_type": "stream",
     "text": [
      "100%|██████████| 19/19 [00:14<00:00,  1.34it/s]\n"
     ]
    },
    {
     "name": "stdout",
     "output_type": "stream",
     "text": [
      "Scraping category 7 out of 45\n"
     ]
    },
    {
     "name": "stderr",
     "output_type": "stream",
     "text": [
      "100%|██████████| 19/19 [00:14<00:00,  1.30it/s]\n"
     ]
    },
    {
     "name": "stdout",
     "output_type": "stream",
     "text": [
      "Scraping category 8 out of 45\n"
     ]
    },
    {
     "name": "stderr",
     "output_type": "stream",
     "text": [
      "100%|██████████| 19/19 [00:11<00:00,  1.63it/s]\n"
     ]
    },
    {
     "name": "stdout",
     "output_type": "stream",
     "text": [
      "Scraping category 9 out of 45\n"
     ]
    },
    {
     "name": "stderr",
     "output_type": "stream",
     "text": [
      "100%|██████████| 19/19 [00:14<00:00,  1.35it/s]\n"
     ]
    },
    {
     "name": "stdout",
     "output_type": "stream",
     "text": [
      "Scraping category 10 out of 45\n"
     ]
    },
    {
     "name": "stderr",
     "output_type": "stream",
     "text": [
      "100%|██████████| 19/19 [00:15<00:00,  1.25it/s]\n"
     ]
    },
    {
     "name": "stdout",
     "output_type": "stream",
     "text": [
      "Scraping category 11 out of 45\n"
     ]
    },
    {
     "name": "stderr",
     "output_type": "stream",
     "text": [
      "100%|██████████| 19/19 [00:15<00:00,  1.20it/s]\n"
     ]
    },
    {
     "name": "stdout",
     "output_type": "stream",
     "text": [
      "Scraping category 12 out of 45\n"
     ]
    },
    {
     "name": "stderr",
     "output_type": "stream",
     "text": [
      "100%|██████████| 19/19 [00:15<00:00,  1.24it/s]\n"
     ]
    },
    {
     "name": "stdout",
     "output_type": "stream",
     "text": [
      "Scraping category 13 out of 45\n"
     ]
    },
    {
     "name": "stderr",
     "output_type": "stream",
     "text": [
      "100%|██████████| 19/19 [00:14<00:00,  1.32it/s]\n"
     ]
    },
    {
     "name": "stdout",
     "output_type": "stream",
     "text": [
      "Scraping category 14 out of 45\n"
     ]
    },
    {
     "name": "stderr",
     "output_type": "stream",
     "text": [
      "100%|██████████| 19/19 [00:12<00:00,  1.52it/s]\n"
     ]
    },
    {
     "name": "stdout",
     "output_type": "stream",
     "text": [
      "Scraping category 15 out of 45\n"
     ]
    },
    {
     "name": "stderr",
     "output_type": "stream",
     "text": [
      "100%|██████████| 19/19 [00:14<00:00,  1.31it/s]\n"
     ]
    },
    {
     "name": "stdout",
     "output_type": "stream",
     "text": [
      "Scraping category 16 out of 45\n"
     ]
    },
    {
     "name": "stderr",
     "output_type": "stream",
     "text": [
      "100%|██████████| 19/19 [00:10<00:00,  1.74it/s]\n"
     ]
    },
    {
     "name": "stdout",
     "output_type": "stream",
     "text": [
      "Scraping category 17 out of 45\n"
     ]
    },
    {
     "name": "stderr",
     "output_type": "stream",
     "text": [
      "100%|██████████| 19/19 [00:13<00:00,  1.41it/s]\n"
     ]
    },
    {
     "name": "stdout",
     "output_type": "stream",
     "text": [
      "Scraping category 18 out of 45\n"
     ]
    },
    {
     "name": "stderr",
     "output_type": "stream",
     "text": [
      "100%|██████████| 19/19 [00:13<00:00,  1.38it/s]\n"
     ]
    },
    {
     "name": "stdout",
     "output_type": "stream",
     "text": [
      "Scraping category 19 out of 45\n"
     ]
    },
    {
     "name": "stderr",
     "output_type": "stream",
     "text": [
      "100%|██████████| 19/19 [00:14<00:00,  1.33it/s]\n"
     ]
    },
    {
     "name": "stdout",
     "output_type": "stream",
     "text": [
      "Scraping category 20 out of 45\n"
     ]
    },
    {
     "name": "stderr",
     "output_type": "stream",
     "text": [
      "100%|██████████| 19/19 [00:14<00:00,  1.32it/s]\n"
     ]
    },
    {
     "name": "stdout",
     "output_type": "stream",
     "text": [
      "Scraping category 21 out of 45\n"
     ]
    },
    {
     "name": "stderr",
     "output_type": "stream",
     "text": [
      "100%|██████████| 19/19 [00:11<00:00,  1.59it/s]\n"
     ]
    },
    {
     "name": "stdout",
     "output_type": "stream",
     "text": [
      "Scraping category 22 out of 45\n"
     ]
    },
    {
     "name": "stderr",
     "output_type": "stream",
     "text": [
      "100%|██████████| 19/19 [00:12<00:00,  1.52it/s]\n"
     ]
    },
    {
     "name": "stdout",
     "output_type": "stream",
     "text": [
      "Scraping category 23 out of 45\n"
     ]
    },
    {
     "name": "stderr",
     "output_type": "stream",
     "text": [
      "100%|██████████| 19/19 [00:12<00:00,  1.58it/s]\n"
     ]
    },
    {
     "name": "stdout",
     "output_type": "stream",
     "text": [
      "Scraping category 24 out of 45\n"
     ]
    },
    {
     "name": "stderr",
     "output_type": "stream",
     "text": [
      "100%|██████████| 19/19 [00:13<00:00,  1.36it/s]\n"
     ]
    },
    {
     "name": "stdout",
     "output_type": "stream",
     "text": [
      "Scraping category 25 out of 45\n"
     ]
    },
    {
     "name": "stderr",
     "output_type": "stream",
     "text": [
      "100%|██████████| 19/19 [00:13<00:00,  1.42it/s]\n"
     ]
    },
    {
     "name": "stdout",
     "output_type": "stream",
     "text": [
      "Scraping category 26 out of 45\n"
     ]
    },
    {
     "name": "stderr",
     "output_type": "stream",
     "text": [
      "100%|██████████| 19/19 [00:11<00:00,  1.71it/s]\n"
     ]
    },
    {
     "name": "stdout",
     "output_type": "stream",
     "text": [
      "Scraping category 27 out of 45\n"
     ]
    },
    {
     "name": "stderr",
     "output_type": "stream",
     "text": [
      "100%|██████████| 19/19 [00:11<00:00,  1.61it/s]\n"
     ]
    },
    {
     "name": "stdout",
     "output_type": "stream",
     "text": [
      "Scraping category 28 out of 45\n"
     ]
    },
    {
     "name": "stderr",
     "output_type": "stream",
     "text": [
      "100%|██████████| 19/19 [00:13<00:00,  1.40it/s]\n"
     ]
    },
    {
     "name": "stdout",
     "output_type": "stream",
     "text": [
      "Scraping category 29 out of 45\n"
     ]
    },
    {
     "name": "stderr",
     "output_type": "stream",
     "text": [
      "100%|██████████| 19/19 [00:15<00:00,  1.21it/s]\n"
     ]
    },
    {
     "name": "stdout",
     "output_type": "stream",
     "text": [
      "Scraping category 30 out of 45\n"
     ]
    },
    {
     "name": "stderr",
     "output_type": "stream",
     "text": [
      "100%|██████████| 19/19 [00:14<00:00,  1.31it/s]\n"
     ]
    },
    {
     "name": "stdout",
     "output_type": "stream",
     "text": [
      "Scraping category 31 out of 45\n"
     ]
    },
    {
     "name": "stderr",
     "output_type": "stream",
     "text": [
      "100%|██████████| 19/19 [00:13<00:00,  1.36it/s]\n"
     ]
    },
    {
     "name": "stdout",
     "output_type": "stream",
     "text": [
      "Scraping category 32 out of 45\n"
     ]
    },
    {
     "name": "stderr",
     "output_type": "stream",
     "text": [
      "100%|██████████| 19/19 [00:12<00:00,  1.52it/s]\n"
     ]
    },
    {
     "name": "stdout",
     "output_type": "stream",
     "text": [
      "Scraping category 33 out of 45\n"
     ]
    },
    {
     "name": "stderr",
     "output_type": "stream",
     "text": [
      "100%|██████████| 19/19 [00:11<00:00,  1.60it/s]\n"
     ]
    },
    {
     "name": "stdout",
     "output_type": "stream",
     "text": [
      "Scraping category 34 out of 45\n"
     ]
    },
    {
     "name": "stderr",
     "output_type": "stream",
     "text": [
      "100%|██████████| 19/19 [00:12<00:00,  1.46it/s]\n"
     ]
    },
    {
     "name": "stdout",
     "output_type": "stream",
     "text": [
      "Scraping category 35 out of 45\n"
     ]
    },
    {
     "name": "stderr",
     "output_type": "stream",
     "text": [
      "100%|██████████| 19/19 [00:14<00:00,  1.31it/s]\n"
     ]
    },
    {
     "name": "stdout",
     "output_type": "stream",
     "text": [
      "Scraping category 36 out of 45\n"
     ]
    },
    {
     "name": "stderr",
     "output_type": "stream",
     "text": [
      "100%|██████████| 19/19 [00:13<00:00,  1.42it/s]\n"
     ]
    },
    {
     "name": "stdout",
     "output_type": "stream",
     "text": [
      "Scraping category 37 out of 45\n"
     ]
    },
    {
     "name": "stderr",
     "output_type": "stream",
     "text": [
      "100%|██████████| 19/19 [00:11<00:00,  1.65it/s]\n"
     ]
    },
    {
     "name": "stdout",
     "output_type": "stream",
     "text": [
      "Scraping category 38 out of 45\n"
     ]
    },
    {
     "name": "stderr",
     "output_type": "stream",
     "text": [
      "100%|██████████| 19/19 [00:12<00:00,  1.48it/s]\n"
     ]
    },
    {
     "name": "stdout",
     "output_type": "stream",
     "text": [
      "Scraping category 39 out of 45\n"
     ]
    },
    {
     "name": "stderr",
     "output_type": "stream",
     "text": [
      "100%|██████████| 19/19 [00:14<00:00,  1.35it/s]\n"
     ]
    },
    {
     "name": "stdout",
     "output_type": "stream",
     "text": [
      "Scraping category 40 out of 45\n"
     ]
    },
    {
     "name": "stderr",
     "output_type": "stream",
     "text": [
      "100%|██████████| 19/19 [00:14<00:00,  1.29it/s]\n"
     ]
    },
    {
     "name": "stdout",
     "output_type": "stream",
     "text": [
      "Scraping category 41 out of 45\n"
     ]
    },
    {
     "name": "stderr",
     "output_type": "stream",
     "text": [
      "100%|██████████| 19/19 [00:15<00:00,  1.22it/s]\n"
     ]
    },
    {
     "name": "stdout",
     "output_type": "stream",
     "text": [
      "Scraping category 42 out of 45\n"
     ]
    },
    {
     "name": "stderr",
     "output_type": "stream",
     "text": [
      "100%|██████████| 19/19 [00:13<00:00,  1.41it/s]\n"
     ]
    },
    {
     "name": "stdout",
     "output_type": "stream",
     "text": [
      "Scraping category 43 out of 45\n"
     ]
    },
    {
     "name": "stderr",
     "output_type": "stream",
     "text": [
      "100%|██████████| 19/19 [00:11<00:00,  1.65it/s]\n"
     ]
    },
    {
     "name": "stdout",
     "output_type": "stream",
     "text": [
      "Scraping category 44 out of 45\n"
     ]
    },
    {
     "name": "stderr",
     "output_type": "stream",
     "text": [
      "100%|██████████| 19/19 [00:15<00:00,  1.22it/s]\n"
     ]
    },
    {
     "name": "stdout",
     "output_type": "stream",
     "text": [
      "Scraping category 45 out of 45\n"
     ]
    },
    {
     "name": "stderr",
     "output_type": "stream",
     "text": [
      "100%|██████████| 19/19 [00:12<00:00,  1.47it/s]\n"
     ]
    }
   ],
   "execution_count": 40
  },
  {
   "metadata": {
    "ExecuteTime": {
     "end_time": "2025-01-16T10:28:06.854767Z",
     "start_time": "2025-01-16T10:28:06.850368Z"
    }
   },
   "cell_type": "code",
   "source": "print(len(mentors))",
   "id": "4a287cb3081bc5bd",
   "outputs": [
    {
     "name": "stdout",
     "output_type": "stream",
     "text": [
      "13651\n"
     ]
    }
   ],
   "execution_count": 41
  },
  {
   "metadata": {
    "ExecuteTime": {
     "end_time": "2025-01-16T10:29:04.962161Z",
     "start_time": "2025-01-16T10:29:04.638005Z"
    }
   },
   "cell_type": "code",
   "source": [
    "mentor_hrefs = []\n",
    "for container in mentors:\n",
    "    a = container.find('a')\n",
    "    href = a['href']\n",
    "    mentor_hrefs.append(href)"
   ],
   "id": "bd899913b78c684b",
   "outputs": [],
   "execution_count": 43
  },
  {
   "metadata": {},
   "cell_type": "markdown",
   "source": "Deleting the duplicates",
   "id": "2c078333b68641b5"
  },
  {
   "metadata": {
    "ExecuteTime": {
     "end_time": "2025-01-16T10:30:03.427281Z",
     "start_time": "2025-01-16T10:30:03.386022Z"
    }
   },
   "cell_type": "code",
   "source": [
    "# delete duplicates\n",
    "mentor_hrefs = list(set(mentor_hrefs))\n",
    "print(len(mentor_hrefs))"
   ],
   "id": "bc5f44c4e91072a1",
   "outputs": [
    {
     "name": "stdout",
     "output_type": "stream",
     "text": [
      "3234\n"
     ]
    }
   ],
   "execution_count": 46
  },
  {
   "metadata": {
    "ExecuteTime": {
     "end_time": "2025-01-16T10:32:30.805619Z",
     "start_time": "2025-01-16T10:32:30.747897Z"
    }
   },
   "cell_type": "code",
   "source": [
    "# save the mentor_hrefs\n",
    "with open('mentor_hrefs.txt', 'w') as f:\n",
    "    for item in mentor_hrefs:\n",
    "        f.write(\"%s\\n\" % item)"
   ],
   "id": "2a9552339f1af773",
   "outputs": [],
   "execution_count": 47
  },
  {
   "metadata": {
    "ExecuteTime": {
     "end_time": "2025-01-16T10:41:58.199526Z",
     "start_time": "2025-01-16T10:32:41.499671Z"
    }
   },
   "cell_type": "code",
   "source": [
    "more_mentors = []\n",
    "\n",
    "from tqdm import tqdm\n",
    "\n",
    "for i, category in enumerate(category_hrefs):\n",
    "    print(\"Scraping category\", i + 1, \"out of\", len(category_hrefs))\n",
    "    for page_number in tqdm(range(20, 40)):\n",
    "        new_url = \"https://www.mentoring-club.com/\" + category + \"?pageNumber=\" + str(page_number)\n",
    "        response = get(new_url, headers=headers)\n",
    "        soup = BeautifulSoup(response.content, 'html.parser')\n",
    "        html_soup = BeautifulSoup(response.text, 'html.parser')\n",
    "        more_mentors += html_soup.find_all('div', class_ = 'member-content')"
   ],
   "id": "475ce33f795a61ee",
   "outputs": [
    {
     "name": "stdout",
     "output_type": "stream",
     "text": [
      "Scraping category 1 out of 45\n"
     ]
    },
    {
     "name": "stderr",
     "output_type": "stream",
     "text": [
      "100%|██████████| 20/20 [00:14<00:00,  1.34it/s]\n"
     ]
    },
    {
     "name": "stdout",
     "output_type": "stream",
     "text": [
      "Scraping category 2 out of 45\n"
     ]
    },
    {
     "name": "stderr",
     "output_type": "stream",
     "text": [
      "100%|██████████| 20/20 [00:12<00:00,  1.63it/s]\n"
     ]
    },
    {
     "name": "stdout",
     "output_type": "stream",
     "text": [
      "Scraping category 3 out of 45\n"
     ]
    },
    {
     "name": "stderr",
     "output_type": "stream",
     "text": [
      "100%|██████████| 20/20 [00:11<00:00,  1.74it/s]\n"
     ]
    },
    {
     "name": "stdout",
     "output_type": "stream",
     "text": [
      "Scraping category 4 out of 45\n"
     ]
    },
    {
     "name": "stderr",
     "output_type": "stream",
     "text": [
      "100%|██████████| 20/20 [00:15<00:00,  1.32it/s]\n"
     ]
    },
    {
     "name": "stdout",
     "output_type": "stream",
     "text": [
      "Scraping category 5 out of 45\n"
     ]
    },
    {
     "name": "stderr",
     "output_type": "stream",
     "text": [
      "100%|██████████| 20/20 [00:14<00:00,  1.37it/s]\n"
     ]
    },
    {
     "name": "stdout",
     "output_type": "stream",
     "text": [
      "Scraping category 6 out of 45\n"
     ]
    },
    {
     "name": "stderr",
     "output_type": "stream",
     "text": [
      "100%|██████████| 20/20 [00:10<00:00,  1.82it/s]\n"
     ]
    },
    {
     "name": "stdout",
     "output_type": "stream",
     "text": [
      "Scraping category 7 out of 45\n"
     ]
    },
    {
     "name": "stderr",
     "output_type": "stream",
     "text": [
      "100%|██████████| 20/20 [00:12<00:00,  1.59it/s]\n"
     ]
    },
    {
     "name": "stdout",
     "output_type": "stream",
     "text": [
      "Scraping category 8 out of 45\n"
     ]
    },
    {
     "name": "stderr",
     "output_type": "stream",
     "text": [
      "100%|██████████| 20/20 [00:11<00:00,  1.82it/s]\n"
     ]
    },
    {
     "name": "stdout",
     "output_type": "stream",
     "text": [
      "Scraping category 9 out of 45\n"
     ]
    },
    {
     "name": "stderr",
     "output_type": "stream",
     "text": [
      "100%|██████████| 20/20 [00:14<00:00,  1.34it/s]\n"
     ]
    },
    {
     "name": "stdout",
     "output_type": "stream",
     "text": [
      "Scraping category 10 out of 45\n"
     ]
    },
    {
     "name": "stderr",
     "output_type": "stream",
     "text": [
      "100%|██████████| 20/20 [00:12<00:00,  1.59it/s]\n"
     ]
    },
    {
     "name": "stdout",
     "output_type": "stream",
     "text": [
      "Scraping category 11 out of 45\n"
     ]
    },
    {
     "name": "stderr",
     "output_type": "stream",
     "text": [
      "100%|██████████| 20/20 [00:11<00:00,  1.68it/s]\n"
     ]
    },
    {
     "name": "stdout",
     "output_type": "stream",
     "text": [
      "Scraping category 12 out of 45\n"
     ]
    },
    {
     "name": "stderr",
     "output_type": "stream",
     "text": [
      "100%|██████████| 20/20 [00:13<00:00,  1.44it/s]\n"
     ]
    },
    {
     "name": "stdout",
     "output_type": "stream",
     "text": [
      "Scraping category 13 out of 45\n"
     ]
    },
    {
     "name": "stderr",
     "output_type": "stream",
     "text": [
      "100%|██████████| 20/20 [00:12<00:00,  1.56it/s]\n"
     ]
    },
    {
     "name": "stdout",
     "output_type": "stream",
     "text": [
      "Scraping category 14 out of 45\n"
     ]
    },
    {
     "name": "stderr",
     "output_type": "stream",
     "text": [
      "100%|██████████| 20/20 [00:12<00:00,  1.55it/s]\n"
     ]
    },
    {
     "name": "stdout",
     "output_type": "stream",
     "text": [
      "Scraping category 15 out of 45\n"
     ]
    },
    {
     "name": "stderr",
     "output_type": "stream",
     "text": [
      "100%|██████████| 20/20 [00:11<00:00,  1.72it/s]\n"
     ]
    },
    {
     "name": "stdout",
     "output_type": "stream",
     "text": [
      "Scraping category 16 out of 45\n"
     ]
    },
    {
     "name": "stderr",
     "output_type": "stream",
     "text": [
      "100%|██████████| 20/20 [00:11<00:00,  1.75it/s]\n"
     ]
    },
    {
     "name": "stdout",
     "output_type": "stream",
     "text": [
      "Scraping category 17 out of 45\n"
     ]
    },
    {
     "name": "stderr",
     "output_type": "stream",
     "text": [
      "100%|██████████| 20/20 [00:12<00:00,  1.62it/s]\n"
     ]
    },
    {
     "name": "stdout",
     "output_type": "stream",
     "text": [
      "Scraping category 18 out of 45\n"
     ]
    },
    {
     "name": "stderr",
     "output_type": "stream",
     "text": [
      "100%|██████████| 20/20 [00:11<00:00,  1.79it/s]\n"
     ]
    },
    {
     "name": "stdout",
     "output_type": "stream",
     "text": [
      "Scraping category 19 out of 45\n"
     ]
    },
    {
     "name": "stderr",
     "output_type": "stream",
     "text": [
      "100%|██████████| 20/20 [00:12<00:00,  1.55it/s]\n"
     ]
    },
    {
     "name": "stdout",
     "output_type": "stream",
     "text": [
      "Scraping category 20 out of 45\n"
     ]
    },
    {
     "name": "stderr",
     "output_type": "stream",
     "text": [
      "100%|██████████| 20/20 [00:12<00:00,  1.55it/s]\n"
     ]
    },
    {
     "name": "stdout",
     "output_type": "stream",
     "text": [
      "Scraping category 21 out of 45\n"
     ]
    },
    {
     "name": "stderr",
     "output_type": "stream",
     "text": [
      "100%|██████████| 20/20 [00:11<00:00,  1.68it/s]\n"
     ]
    },
    {
     "name": "stdout",
     "output_type": "stream",
     "text": [
      "Scraping category 22 out of 45\n"
     ]
    },
    {
     "name": "stderr",
     "output_type": "stream",
     "text": [
      "100%|██████████| 20/20 [00:12<00:00,  1.54it/s]\n"
     ]
    },
    {
     "name": "stdout",
     "output_type": "stream",
     "text": [
      "Scraping category 23 out of 45\n"
     ]
    },
    {
     "name": "stderr",
     "output_type": "stream",
     "text": [
      "100%|██████████| 20/20 [00:10<00:00,  1.87it/s]\n"
     ]
    },
    {
     "name": "stdout",
     "output_type": "stream",
     "text": [
      "Scraping category 24 out of 45\n"
     ]
    },
    {
     "name": "stderr",
     "output_type": "stream",
     "text": [
      "100%|██████████| 20/20 [00:10<00:00,  1.86it/s]\n"
     ]
    },
    {
     "name": "stdout",
     "output_type": "stream",
     "text": [
      "Scraping category 25 out of 45\n"
     ]
    },
    {
     "name": "stderr",
     "output_type": "stream",
     "text": [
      "100%|██████████| 20/20 [00:10<00:00,  1.84it/s]\n"
     ]
    },
    {
     "name": "stdout",
     "output_type": "stream",
     "text": [
      "Scraping category 26 out of 45\n"
     ]
    },
    {
     "name": "stderr",
     "output_type": "stream",
     "text": [
      "100%|██████████| 20/20 [00:11<00:00,  1.70it/s]\n"
     ]
    },
    {
     "name": "stdout",
     "output_type": "stream",
     "text": [
      "Scraping category 27 out of 45\n"
     ]
    },
    {
     "name": "stderr",
     "output_type": "stream",
     "text": [
      "100%|██████████| 20/20 [00:10<00:00,  1.95it/s]\n"
     ]
    },
    {
     "name": "stdout",
     "output_type": "stream",
     "text": [
      "Scraping category 28 out of 45\n"
     ]
    },
    {
     "name": "stderr",
     "output_type": "stream",
     "text": [
      "100%|██████████| 20/20 [00:16<00:00,  1.24it/s]\n"
     ]
    },
    {
     "name": "stdout",
     "output_type": "stream",
     "text": [
      "Scraping category 29 out of 45\n"
     ]
    },
    {
     "name": "stderr",
     "output_type": "stream",
     "text": [
      "100%|██████████| 20/20 [00:14<00:00,  1.40it/s]\n"
     ]
    },
    {
     "name": "stdout",
     "output_type": "stream",
     "text": [
      "Scraping category 30 out of 45\n"
     ]
    },
    {
     "name": "stderr",
     "output_type": "stream",
     "text": [
      "100%|██████████| 20/20 [00:11<00:00,  1.75it/s]\n"
     ]
    },
    {
     "name": "stdout",
     "output_type": "stream",
     "text": [
      "Scraping category 31 out of 45\n"
     ]
    },
    {
     "name": "stderr",
     "output_type": "stream",
     "text": [
      "100%|██████████| 20/20 [00:11<00:00,  1.82it/s]\n"
     ]
    },
    {
     "name": "stdout",
     "output_type": "stream",
     "text": [
      "Scraping category 32 out of 45\n"
     ]
    },
    {
     "name": "stderr",
     "output_type": "stream",
     "text": [
      "100%|██████████| 20/20 [00:10<00:00,  1.85it/s]\n"
     ]
    },
    {
     "name": "stdout",
     "output_type": "stream",
     "text": [
      "Scraping category 33 out of 45\n"
     ]
    },
    {
     "name": "stderr",
     "output_type": "stream",
     "text": [
      "100%|██████████| 20/20 [00:10<00:00,  1.86it/s]\n"
     ]
    },
    {
     "name": "stdout",
     "output_type": "stream",
     "text": [
      "Scraping category 34 out of 45\n"
     ]
    },
    {
     "name": "stderr",
     "output_type": "stream",
     "text": [
      "100%|██████████| 20/20 [00:13<00:00,  1.51it/s]\n"
     ]
    },
    {
     "name": "stdout",
     "output_type": "stream",
     "text": [
      "Scraping category 35 out of 45\n"
     ]
    },
    {
     "name": "stderr",
     "output_type": "stream",
     "text": [
      "100%|██████████| 20/20 [00:11<00:00,  1.80it/s]\n"
     ]
    },
    {
     "name": "stdout",
     "output_type": "stream",
     "text": [
      "Scraping category 36 out of 45\n"
     ]
    },
    {
     "name": "stderr",
     "output_type": "stream",
     "text": [
      "100%|██████████| 20/20 [00:15<00:00,  1.29it/s]\n"
     ]
    },
    {
     "name": "stdout",
     "output_type": "stream",
     "text": [
      "Scraping category 37 out of 45\n"
     ]
    },
    {
     "name": "stderr",
     "output_type": "stream",
     "text": [
      "100%|██████████| 20/20 [00:10<00:00,  1.84it/s]\n"
     ]
    },
    {
     "name": "stdout",
     "output_type": "stream",
     "text": [
      "Scraping category 38 out of 45\n"
     ]
    },
    {
     "name": "stderr",
     "output_type": "stream",
     "text": [
      "100%|██████████| 20/20 [00:10<00:00,  1.92it/s]\n"
     ]
    },
    {
     "name": "stdout",
     "output_type": "stream",
     "text": [
      "Scraping category 39 out of 45\n"
     ]
    },
    {
     "name": "stderr",
     "output_type": "stream",
     "text": [
      "100%|██████████| 20/20 [00:14<00:00,  1.35it/s]\n"
     ]
    },
    {
     "name": "stdout",
     "output_type": "stream",
     "text": [
      "Scraping category 40 out of 45\n"
     ]
    },
    {
     "name": "stderr",
     "output_type": "stream",
     "text": [
      "100%|██████████| 20/20 [00:13<00:00,  1.52it/s]\n"
     ]
    },
    {
     "name": "stdout",
     "output_type": "stream",
     "text": [
      "Scraping category 41 out of 45\n"
     ]
    },
    {
     "name": "stderr",
     "output_type": "stream",
     "text": [
      "100%|██████████| 20/20 [00:13<00:00,  1.46it/s]\n"
     ]
    },
    {
     "name": "stdout",
     "output_type": "stream",
     "text": [
      "Scraping category 42 out of 45\n"
     ]
    },
    {
     "name": "stderr",
     "output_type": "stream",
     "text": [
      "100%|██████████| 20/20 [00:11<00:00,  1.77it/s]\n"
     ]
    },
    {
     "name": "stdout",
     "output_type": "stream",
     "text": [
      "Scraping category 43 out of 45\n"
     ]
    },
    {
     "name": "stderr",
     "output_type": "stream",
     "text": [
      "100%|██████████| 20/20 [00:10<00:00,  1.86it/s]\n"
     ]
    },
    {
     "name": "stdout",
     "output_type": "stream",
     "text": [
      "Scraping category 44 out of 45\n"
     ]
    },
    {
     "name": "stderr",
     "output_type": "stream",
     "text": [
      "100%|██████████| 20/20 [00:12<00:00,  1.65it/s]\n"
     ]
    },
    {
     "name": "stdout",
     "output_type": "stream",
     "text": [
      "Scraping category 45 out of 45\n"
     ]
    },
    {
     "name": "stderr",
     "output_type": "stream",
     "text": [
      "100%|██████████| 20/20 [00:11<00:00,  1.79it/s]\n"
     ]
    }
   ],
   "execution_count": 48
  },
  {
   "metadata": {
    "ExecuteTime": {
     "end_time": "2025-01-16T10:43:36.577309Z",
     "start_time": "2025-01-16T10:43:35.527157Z"
    }
   },
   "cell_type": "code",
   "source": [
    "more_hrefs = []\n",
    "for container in more_mentors:\n",
    "    a = container.find('a')\n",
    "    href = a['href']\n",
    "    more_hrefs.append(href)\n",
    "more_hrefs = list(set(more_hrefs))\n",
    "print(len(more_hrefs))"
   ],
   "id": "b1c41369a9ea5001",
   "outputs": [
    {
     "name": "stdout",
     "output_type": "stream",
     "text": [
      "2212\n"
     ]
    }
   ],
   "execution_count": 49
  },
  {
   "metadata": {
    "ExecuteTime": {
     "end_time": "2025-01-16T10:44:37.656985Z",
     "start_time": "2025-01-16T10:44:37.555916Z"
    }
   },
   "cell_type": "code",
   "source": [
    "all_hrefs = mentor_hrefs + more_hrefs\n",
    "print(len(all_hrefs))\n",
    "all_hrefs = list(set(all_hrefs))\n",
    "print(len(all_hrefs))"
   ],
   "id": "dc942b71f8b68b46",
   "outputs": [
    {
     "name": "stdout",
     "output_type": "stream",
     "text": [
      "5446\n",
      "3509\n"
     ]
    }
   ],
   "execution_count": 50
  },
  {
   "metadata": {
    "ExecuteTime": {
     "end_time": "2025-01-16T10:45:53.245117Z",
     "start_time": "2025-01-16T10:45:53.213644Z"
    }
   },
   "cell_type": "code",
   "source": [
    "# save the mentor_hrefs\n",
    "with open('all_hrefs.txt', 'w') as f:\n",
    "    for item in all_hrefs:\n",
    "        f.write(\"%s\\n\" % item)"
   ],
   "id": "c1258c5d158a8e1b",
   "outputs": [],
   "execution_count": 51
  },
  {
   "metadata": {},
   "cell_type": "markdown",
   "source": "# Part 3: Scraping the Mentor Pages from the scraped links",
   "id": "f0d32356a663464f"
  },
  {
   "metadata": {
    "ExecuteTime": {
     "end_time": "2025-01-16T10:46:56.103408Z",
     "start_time": "2025-01-16T10:46:56.080669Z"
    }
   },
   "cell_type": "code",
   "source": [
    "# read the mentor_hrefs\n",
    "all_mentor_hrefs = []\n",
    "with open('all_hrefs.txt', 'r') as f:\n",
    "    for line in f:\n",
    "        all_mentor_hrefs.append(line.strip())"
   ],
   "id": "324880051c4c7e3b",
   "outputs": [],
   "execution_count": 52
  },
  {
   "metadata": {
    "ExecuteTime": {
     "end_time": "2025-01-16T11:50:45.998691Z",
     "start_time": "2025-01-16T10:54:28.726271Z"
    }
   },
   "cell_type": "code",
   "source": [
    "headers = {\"user-agent\": \"Mozilla/5.0 (Windows NT 10.0; Win64; x64) AppleWebKit/537.36 (KHTML, like Gecko) Chrome/88.0.4324.182 Safari/537.36\"}\n",
    "mentor_soups = []\n",
    "\n",
    "for mentor_href in tqdm(all_mentor_hrefs):\n",
    "    new_url = \"https://www.mentoring-club.com/\" + mentor_href\n",
    "    response = get(new_url, headers=headers)\n",
    "    soup = BeautifulSoup(response.content, 'html.parser')\n",
    "    html_soup = BeautifulSoup(response.text, 'html.parser')\n",
    "    mentor_soups.append(html_soup)"
   ],
   "id": "ddf8537d4c993801",
   "outputs": [
    {
     "name": "stderr",
     "output_type": "stream",
     "text": [
      "100%|██████████| 3509/3509 [56:17<00:00,  1.04it/s]  \n"
     ]
    }
   ],
   "execution_count": 57
  },
  {
   "metadata": {
    "ExecuteTime": {
     "end_time": "2025-01-16T11:51:19.860179Z",
     "start_time": "2025-01-16T11:51:01.714700Z"
    }
   },
   "cell_type": "code",
   "source": [
    "# saving the mentor_soups\n",
    "import pickle\n",
    "with open('mentor_soups.pkl', 'wb') as f:\n",
    "    pickle.dump(mentor_soups, f)"
   ],
   "id": "a68ba6674d2d370a",
   "outputs": [],
   "execution_count": 58
  },
  {
   "metadata": {},
   "cell_type": "markdown",
   "source": "# Part 4: Extracting the Profile Information from the Mentor Pages and Saving to parquet",
   "id": "737dbfb3292ed54f"
  },
  {
   "metadata": {
    "ExecuteTime": {
     "end_time": "2025-01-22T16:50:00.616666Z",
     "start_time": "2025-01-22T16:49:37.842401Z"
    }
   },
   "cell_type": "code",
   "source": [
    "import pickle\n",
    "with open('mentor_soups.pkl', 'rb') as f:\n",
    "    all_mentor_soups = pickle.load(f)"
   ],
   "id": "a0d8619153a464f5",
   "outputs": [],
   "execution_count": 2
  },
  {
   "metadata": {
    "ExecuteTime": {
     "end_time": "2025-01-22T16:50:08.679893Z",
     "start_time": "2025-01-22T16:50:03.468988Z"
    }
   },
   "cell_type": "code",
   "source": [
    "names = []\n",
    "all_positions = []\n",
    "all_categories = []\n",
    "countries = []\n",
    "cities = []\n",
    "all_languages = []\n",
    "abouts = []\n",
    "all_mentoring_topics = []\n",
    "all_social_links = []\n",
    "all_review_stars = []\n",
    "all_review_dates = []\n",
    "all_review_texts = []\n",
    "\n",
    "for mentor_soup in all_mentor_soups:\n",
    "    profile = mentor_soup.find('div', class_ = 'profile-info col flex-md-grow-1')\n",
    "    name = profile.find('h1').find('span').text\n",
    "    if name == 'Md. Joynal  Abdin':\n",
    "        print('Skipping Md. Joynal  Abdin')\n",
    "        continue\n",
    "    names.append(name)\n",
    "    positions = profile.find('div').find_all('span')\n",
    "    positions = [position.text for position in positions if position.text != '']\n",
    "    all_positions.append(positions)\n",
    "    profile_links = profile.find_all('a')\n",
    "    categories = [\n",
    "        profile_link.find('span').text\n",
    "        for profile_link in profile_links\n",
    "        if profile_link['href'].startswith('/the-mentors/category')\n",
    "    ]\n",
    "    all_categories.append(categories)\n",
    "    country_block = [\n",
    "        profile_link.find('span').text\n",
    "        for profile_link in profile_links\n",
    "        if profile_link['href'].startswith('/the-mentors/country')\n",
    "    ]\n",
    "    if country_block == []:\n",
    "        country, city = '', ''\n",
    "    else:\n",
    "        country_block = country_block[0].split(' / ')\n",
    "        country = country_block[0]\n",
    "        if len(country_block) == 1:\n",
    "            city = ''\n",
    "        else:\n",
    "            city = country_block[1]\n",
    "    city = city.replace(' ', '').replace('\\n', '')\n",
    "    country = country.replace(' ', '').replace('\\n', '')\n",
    "    countries.append(country)\n",
    "    cities.append(city)\n",
    "    languages = [\n",
    "        profile_link.find('span').text[:-1]\n",
    "        for profile_link in profile_links\n",
    "        if profile_link['href'].startswith('/the-mentors/language')\n",
    "    ]\n",
    "    all_languages.append(languages)\n",
    "    \n",
    "    about = mentor_soup.find('p', class_ = 'preserve-line-breaks').text\n",
    "    abouts.append(about)\n",
    "    \n",
    "    mentoring_topics = mentor_soup.find('ul', class_ = 'mentoring-topics').find_all('li')\n",
    "    mentoring_topics = [mentoring_topic.text for mentoring_topic in mentoring_topics]\n",
    "    # removing blanks and \\r from end of each topic\n",
    "    mentoring_topics = [mentoring_topic.replace('\\r', '').strip() for mentoring_topic in mentoring_topics]\n",
    "    all_mentoring_topics.append(mentoring_topics)\n",
    "    social_links = mentor_soup.find('div', class_ = 'social').find_all('a')\n",
    "    social_links = [social_link['href'] for social_link in social_links]\n",
    "    all_social_links.append(social_links)\n",
    "    \n",
    "    reviews = mentor_soup.find('div', class_ = 'col-12 pl-4 pr-4')\n",
    "    if reviews:\n",
    "        reviews = mentor_soup.find('div', class_ = 'col-12 pl-4 pr-4').find_all('div', class_ = 'commented-section mt-2 rounded pb-2 bg-light p-3')\n",
    "        reviews_stars = [len(review.find_all('i')) for review in reviews]\n",
    "        reviews_dates = [review.find('div').text for review in reviews]\n",
    "        stripped_dates = []\n",
    "        for date in reviews_dates:\n",
    "            first_digit_index = len(date)\n",
    "            for i in range(0, 9):\n",
    "                ind = date.find(str(i))\n",
    "                if ind != -1 and ind < first_digit_index:\n",
    "                    first_digit_index = ind\n",
    "            stripped_dates.append(date[first_digit_index:].strip())\n",
    "        reviews_texts = [review.find('p').text for review in reviews]\n",
    "    else:\n",
    "        reviews_stars = []\n",
    "        stripped_dates = []\n",
    "        reviews_texts = []\n",
    "    all_review_stars.append(reviews_stars)\n",
    "    all_review_dates.append(stripped_dates)\n",
    "    all_review_texts.append(reviews_texts)"
   ],
   "id": "3d316c9fee27ec80",
   "outputs": [
    {
     "name": "stdout",
     "output_type": "stream",
     "text": [
      "Skipping Md. Joynal  Abdin\n"
     ]
    }
   ],
   "execution_count": 3
  },
  {
   "metadata": {
    "ExecuteTime": {
     "end_time": "2025-01-22T16:50:16.249128Z",
     "start_time": "2025-01-22T16:50:15.273265Z"
    }
   },
   "cell_type": "code",
   "source": [
    "# saving to csv\n",
    "import pandas as pd\n",
    "\n",
    "\n",
    "df = pd.DataFrame({ 'Name': names, 'Positions': all_positions, 'Categories': all_categories, 'Country': countries, 'City': cities, 'Languages': all_languages, 'About': abouts, 'Mentoring Topics': all_mentoring_topics, 'Social Links': all_social_links, 'Review Stars': all_review_stars, 'Review Dates': all_review_dates, 'Review Texts': all_review_texts })"
   ],
   "id": "3e1fd92a7806ceeb",
   "outputs": [],
   "execution_count": 4
  },
  {
   "metadata": {
    "ExecuteTime": {
     "end_time": "2025-01-22T16:50:18.406082Z",
     "start_time": "2025-01-22T16:50:18.270463Z"
    }
   },
   "cell_type": "code",
   "source": [
    "# saving to parquet\n",
    "df.to_parquet('mentors.parquet', index=False)"
   ],
   "id": "e58af3a80053674d",
   "outputs": [],
   "execution_count": 5
  },
  {
   "metadata": {},
   "cell_type": "code",
   "outputs": [],
   "execution_count": null,
   "source": "",
   "id": "b91ad7721af09a01"
  }
 ],
 "metadata": {
  "kernelspec": {
   "display_name": "Python 3",
   "language": "python",
   "name": "python3"
  },
  "language_info": {
   "codemirror_mode": {
    "name": "ipython",
    "version": 2
   },
   "file_extension": ".py",
   "mimetype": "text/x-python",
   "name": "python",
   "nbconvert_exporter": "python",
   "pygments_lexer": "ipython2",
   "version": "2.7.6"
  }
 },
 "nbformat": 4,
 "nbformat_minor": 5
}
